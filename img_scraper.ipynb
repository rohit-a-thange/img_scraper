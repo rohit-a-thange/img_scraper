{
 "cells": [
  {
   "cell_type": "code",
   "execution_count": 1,
   "id": "888f2f8f",
   "metadata": {},
   "outputs": [],
   "source": [
    "import requests\n",
    "import logging\n",
    "import os\n",
    "\n",
    "from bs4 import BeautifulSoup # BS- Scraps data from url pages\n",
    "from urllib.request import urlopen # to interact with server"
   ]
  },
  {
   "cell_type": "code",
   "execution_count": 2,
   "id": "78866272",
   "metadata": {},
   "outputs": [],
   "source": [
    "query = 'shahrukh khan' #user input\n",
    "# url= https://www.google.com/search?q=query&sca_esv=563346939&source=hp&ei=oI35ZN2rDcvXhwPWuouAAg&iflsig=AD69kcEAAAAAZPmbsBNpvk1pMopFrF8dSMioGYxstPQs&ved=0ahUKEwjd-6eKjpiBAxXL62EKHVbdAiAQ4dUDCAk&uact=5&oq=elon+musk&gs_lp=Egdnd3Mtd2l6IgllbG9uIG11c2syCBAuGLEDGIAEMggQABiABBixAzIIEAAYgAQYsQMyCBAAGIAEGLEDMgUQABiABDIIEAAYgAQYsQMyBRAAGIAEMggQABiABBixAzIFEAAYgAQyBRAAGIAESLoUUP0IWLoScAF4AJABAZgBhgSgAdEJqgELMC4xLjEuMS4wLjG4AQPIAQD4AQGoAgrCAhAQABgDGI8BGOUCGOoCGIwDwgIQEC4YAxiPARjlAhjqAhiMAw&sclient=gws-wiz\n",
    "response = requests.get(f'https://www.google.com/search?sca_esv=563665333&q={query}&tbm=isch&source=lnms&sa=X&ved=2ahUKEwjL6_m60JqBAxX8amwGHSNCDZkQ0pQJegQIDRAB&biw=1683&bih=822&dpr=1.11')"
   ]
  },
  {
   "cell_type": "code",
   "execution_count": 3,
   "id": "d78743a1",
   "metadata": {},
   "outputs": [
    {
     "data": {
      "text/plain": [
       "<Response [200]>"
      ]
     },
     "execution_count": 3,
     "metadata": {},
     "output_type": "execute_result"
    }
   ],
   "source": [
    "response"
   ]
  },
  {
   "cell_type": "code",
   "execution_count": 4,
   "id": "3aabd436",
   "metadata": {},
   "outputs": [],
   "source": [
    "soup = BeautifulSoup(response.content, 'html.parser') # parsing/beautify the HTML"
   ]
  },
  {
   "cell_type": "code",
   "execution_count": 5,
   "id": "2ee93493",
   "metadata": {},
   "outputs": [
    {
     "data": {
      "text/plain": [
       "<!DOCTYPE html PUBLIC \"-//WAPFORUM//DTD XHTML Mobile 1.0//EN\" \"http://www.wapforum.org/DTD/xhtml-mobile10.dtd\">\n",
       "<html lang=\"en-IN\" xmlns=\"http://www.w3.org/1999/xhtml\"><head><meta content=\"application/xhtml+xml; charset=utf-8\" http-equiv=\"Content-Type\"/><meta content=\"no-cache\" name=\"Cache-Control\"/><title>shahrukh khan - Google Search</title><style>a{text-decoration:none;color:inherit}a:hover{text-decoration:underline}a img{border:0}body{font-family:arial,sans-serif;padding:8px;margin:0 auto;max-width:700px;min-width:240px;}.FbhRzb{border-left:thin solid #dadce0;border-right:thin solid #dadce0;border-top:thin solid #dadce0;height:40px;overflow:hidden}.n692Zd{margin-bottom:10px}.cvifge{height:40px;border-spacing:0}.QvGUP{height:40px;padding:0 8px 0 8px;vertical-align:top}.O4cRJf{height:40px;width:100%;padding:0;padding-right:16px}.O1ePr{height:40px;padding:0;vertical-align:top}.kgJEQe{height:36px;width:98px;vertical-align:top;margin-top:4px}.lXLRf{vertical-align:top}.MhzMZd{border:0;vertical-align:middle;font-size:14px;height:40px;padding:0;width:100%;padding-left:16px}.xB0fq{height:40px;border:none;font-size:14px;background-color:#1a73e8;color:#fff;padding:0 16px;margin:0;vertical-align:top;cursor:pointer}.xB0fq:focus{border:1px solid #1a73e8}.M7pB2{border:thin solid #dadce0;margin:0 0 3px 0;font-size:13px;font-weight:500;height:40px}.euZec{width:100%;height:40px;text-align:center;border-spacing:0}table.euZec td{padding:0;width:25%}.QIqI7{display:inline-block;padding-top:4px;font-weight:bold;color:#4285f4}.EY24We{border-bottom:2px solid #4285f4}.CsQyDc{display:inline-block;color:#70757a}.TuS8Ad{font-size:14px}.HddGcc{padding:8px;color:#70757a}.dzp8ae{font-weight:bold;color:#3c4043}.rEM8G{color:#70757a}.bookcf{table-layout:fixed;width:100%;border-spacing:0}.InWNIe{text-align:center}.uZgmoc{border:thin solid #dadce0;color:#70757a;font-size:14px;text-align:center;table-layout:fixed;width:100%}.frGj1b{display:block;padding:12px 0 12px 0;width:100%}.BnJWBc{text-align:center;padding:6px 0 13px 0;height:35px}.e3goi{vertical-align:top;padding:0;height:180px}.GpQGbf{margin:auto;border-collapse:collapse;border-spacing:0;width:100%}</style></head><body><style>.X6ZCif{color:#202124;font-size:11px;line-height:16px;display:inline-block;padding-top:2px;overflow:hidden;padding-bottom:4px;width:100%}.TwVfHd{border-radius:16px;border:thin solid #dadce0;display:inline-block;padding:8px 8px;margin-right:8px;margin-bottom:4px}.yekiAe{background-color:#dadce0}.jjVJ4e{width:100%}.ezO2md{border:thin solid #dadce0;padding:12px 16px 12px 16px;margin-bottom:10px;font-family:arial,sans-serif}.lIMUZd{font-family:arial,sans-serif}.RntSmf{border-spacing:0}.lgD2Tc{width:100%}.SpelHe{text-align:center}.SpelHe{position:relative}.deHqpb{bottom:0;left:0;margin:auto;position:absolute;right:0;top:0}.kCmkOe{position:relative}.ID6Z3b{background-image:url(\"data:image/svg+xml, %3Csvg height='20' fill='#fff' viewBox='0 96 960 960' width='20' xmlns='http://www.w3.org/2000/svg'%3E%3Cpath d='M792 1000 624 834q-35 11-70.5 16.5T480 856q-151 0-269-83.5T40 556q21-53 53-98.5t73-81.5L56 264l56-56 736 736-56 56ZM480 736q11 0 20.5-1t20.5-4L305 515q-3 11-4 20.5t-1 20.5q0 75 52.5 127.5T480 736Zm292 18L645 628q7-17 11-34.5t4-37.5q0-75-52.5-127.5T480 376q-20 0-37.5 4T408 392L306 290q41-17 84-25.5t90-8.5q151 0 269 83.5T920 556q-23 59-60.5 109.5T772 754ZM587 570 467 450q28-5 51.5 4.5T559 482q17 18 24.5 41.5T587 570Z'%3E%3C/path%3E%3C/svg%3E\");background-repeat:no-repeat;background-position:center;background-size:20px}.kCmkOe{width:162px;height:140px;line-height:140px;overflow:'hidden';text-align:center}.DS1iW{text-align:center;margin:auto;vertical-align:middle;max-width:162px;max-height:140px}.AlD19d{padding-top:2px;padding-bottom:8px;}.fYyStc{word-break:break-word}.ynsChf{display:block;white-space:nowrap;overflow:hidden;text-overflow:ellipsis}.Fj3V3b{color:#1967d2;font-size:14px;line-height:20px}.FrIlee{color:#202124;font-size:11px;line-height:16px}.F9iS2e{color:#70757a;font-size:11px;line-height:16px}.WMQ2Le{color:#70757a;font-size:12px;line-height:16px}.x3G5ab{color:#202124;font-size:12px;line-height:16px}.fuLhoc{color:#1967d2;font-size:16px;line-height:20px}.epoveb{font-size:24px;line-height:28px;font-weight:400;color:#202124}.dXDvrc{color:#0d652d;font-size:14px;line-height:20px;word-wrap:break-word}.dloBPe{font-weight:bold}.YVIcad{color:#70757a}.JkVVdd{color:#ea4335}.oXZRFd{color:#ea4335}.MQHtg{color:#fbbc04}.pyMRrb{color:#1e8e3e}.EtTZid{color:#1e8e3e}.M3vVJe{color:#1967d2}.qXLe6d{display:block}.NHQNef{font-style:italic}.Cb8Z7c{white-space:pre}a.ZWRArf{text-decoration:none}a .CVA68e:hover{text-decoration:underline}</style><div class=\"n692Zd\"><div class=\"BnJWBc\"><a class=\"lXLRf\" href=\"/?sa=X&amp;sca_esv=563665333&amp;biw=1683&amp;bih=822&amp;output=images&amp;ie=UTF-8&amp;tbm=isch&amp;ved=0ahUKEwjuxYimkp2BAxU-T2wGHdvXDogQPAgC\"><img alt=\"Google\" class=\"kgJEQe\" src=\"/images/branding/searchlogo/1x/googlelogo_desk_heirloom_color_150x55dp.gif\"/></a></div><div class=\"FbhRzb\"><form action=\"/search\"><input name=\"sca_esv\" type=\"hidden\" value=\"563665333\"/><input name=\"biw\" type=\"hidden\" value=\"1683\"/><input name=\"bih\" type=\"hidden\" value=\"822\"/><input name=\"ie\" type=\"hidden\" value=\"ISO-8859-1\"/><input name=\"tbm\" type=\"hidden\" value=\"isch\"/><input name=\"oq\" type=\"hidden\"/><input name=\"aqs\" type=\"hidden\"/><table class=\"cvifge\"><tr><td class=\"O4cRJf\"><input class=\"MhzMZd\" name=\"q\" type=\"text\" value=\"shahrukh khan\"/></td><td class=\"O1ePr\"><input class=\"xB0fq\" type=\"submit\" value=\"Search\"/></td></tr></table></form></div><div class=\"M7pB2\"><table class=\"euZec\"><tbody><tr><td><a class=\"CsQyDc\" href=\"/search?q=shahrukh+khan&amp;sca_esv=563665333&amp;biw=1683&amp;bih=822&amp;ie=UTF-8&amp;source=lnms&amp;sa=X&amp;ved=0ahUKEwjuxYimkp2BAxU-T2wGHdvXDogQ_AUIBCgA\">ALL</a></td><td><a class=\"CsQyDc\" href=\"/search?q=shahrukh+khan&amp;sca_esv=563665333&amp;biw=1683&amp;bih=822&amp;ie=UTF-8&amp;tbm=nws&amp;source=lnms&amp;sa=X&amp;ved=0ahUKEwjuxYimkp2BAxU-T2wGHdvXDogQ_AUIBSgB\">NEWS</a></td><td class=\"EY24We\"><span class=\"QIqI7\">IMAGES</span></td><td><a class=\"CsQyDc\" href=\"/search?q=shahrukh+khan&amp;sca_esv=563665333&amp;biw=1683&amp;bih=822&amp;ie=UTF-8&amp;tbm=vid&amp;source=lnms&amp;sa=X&amp;ved=0ahUKEwjuxYimkp2BAxU-T2wGHdvXDogQ_AUIBygD\">VIDEOS</a></td></tr></tbody></table></div></div><div class=\"X6ZCif\"><a class=\"TwVfHd\" href=\"/search?sca_esv=563665333&amp;biw=1683&amp;bih=822&amp;ie=UTF-8&amp;tbm=isch&amp;q=shahrukh+khan&amp;chips=q:shahrukh+khan,g_1:hairstyle&amp;sa=X&amp;ved=0ahUKEwjuxYimkp2BAxU-T2wGHdvXDogQ4lYICygA\">hairstyle</a><a class=\"TwVfHd\" href=\"/search?sca_esv=563665333&amp;biw=1683&amp;bih=822&amp;ie=UTF-8&amp;tbm=isch&amp;q=shahrukh+khan&amp;chips=q:shahrukh+khan,g_1:wallpaper&amp;sa=X&amp;ved=0ahUKEwjuxYimkp2BAxU-T2wGHdvXDogQ4lYIDCgB\">wallpaper</a><a class=\"TwVfHd\" href=\"/search?sca_esv=563665333&amp;biw=1683&amp;bih=822&amp;ie=UTF-8&amp;tbm=isch&amp;q=shahrukh+khan&amp;chips=q:shahrukh+khan,g_1:old&amp;sa=X&amp;ved=0ahUKEwjuxYimkp2BAxU-T2wGHdvXDogQ4lYIDSgC\">old</a><a class=\"TwVfHd\" href=\"/search?sca_esv=563665333&amp;biw=1683&amp;bih=822&amp;ie=UTF-8&amp;tbm=isch&amp;q=shahrukh+khan&amp;chips=q:shahrukh+khan,g_1:pathan&amp;sa=X&amp;ved=0ahUKEwjuxYimkp2BAxU-T2wGHdvXDogQ4lYIDigD\">pathan</a><a class=\"TwVfHd\" href=\"/search?sca_esv=563665333&amp;biw=1683&amp;bih=822&amp;ie=UTF-8&amp;tbm=isch&amp;q=shahrukh+khan&amp;chips=q:shahrukh+khan,g_1:gauri&amp;sa=X&amp;ved=0ahUKEwjuxYimkp2BAxU-T2wGHdvXDogQ4lYIDygE\">gauri</a><a class=\"TwVfHd\" href=\"/search?sca_esv=563665333&amp;biw=1683&amp;bih=822&amp;ie=UTF-8&amp;tbm=isch&amp;q=shahrukh+khan&amp;chips=q:shahrukh+khan,g_1:dilwale&amp;sa=X&amp;ved=0ahUKEwjuxYimkp2BAxU-T2wGHdvXDogQ4lYIECgF\">dilwale</a><a class=\"TwVfHd\" href=\"/search?sca_esv=563665333&amp;biw=1683&amp;bih=822&amp;ie=UTF-8&amp;tbm=isch&amp;q=shahrukh+khan&amp;chips=q:shahrukh+khan,g_1:daughter&amp;sa=X&amp;ved=0ahUKEwjuxYimkp2BAxU-T2wGHdvXDogQ4lYIESgG\">daughter</a><a class=\"TwVfHd\" href=\"/search?sca_esv=563665333&amp;biw=1683&amp;bih=822&amp;ie=UTF-8&amp;tbm=isch&amp;q=shahrukh+khan&amp;chips=q:shahrukh+khan,g_1:new&amp;sa=X&amp;ved=0ahUKEwjuxYimkp2BAxU-T2wGHdvXDogQ4lYIEigH\">new</a><a class=\"TwVfHd\" href=\"/search?sca_esv=563665333&amp;biw=1683&amp;bih=822&amp;ie=UTF-8&amp;tbm=isch&amp;q=shahrukh+khan&amp;chips=q:shahrukh+khan,g_1:style&amp;sa=X&amp;ved=0ahUKEwjuxYimkp2BAxU-T2wGHdvXDogQ4lYIEygI\">style</a><a class=\"TwVfHd\" href=\"/search?sca_esv=563665333&amp;biw=1683&amp;bih=822&amp;ie=UTF-8&amp;tbm=isch&amp;q=shahrukh+khan&amp;chips=q:shahrukh+khan,g_1:actor&amp;sa=X&amp;ved=0ahUKEwjuxYimkp2BAxU-T2wGHdvXDogQ4lYIFCgJ\">actor</a></div><div><table class=\"GpQGbf\"><tr><td align=\"center\" class=\"e3goi\"><div class=\"jjVJ4e\"> <div> <div class=\"lIMUZd\"><div><table class=\"RntSmf\"><tr><td><a href=\"/url?q=https://en.wikipedia.org/wiki/Shah_Rukh_Khan&amp;sa=U&amp;ved=2ahUKEwjuxYimkp2BAxU-T2wGHdvXDogQqoUBegQIABAB&amp;usg=AOvVaw1mUoslirYC3BeOMgwmiVyc\"><div class=\"kCmkOe\"><img alt=\"\" class=\"DS1iW\" src=\"https://encrypted-tbn0.gstatic.com/images?q=tbn:ANd9GcTLNfUks4a0a_Zm76sqYmimv_BWKgkZbDE12d5kbaaQRT3TAyRfmbeR2vLzfg&amp;s\"/></div></a></td></tr><tr><td><a href=\"/url?q=https://en.wikipedia.org/wiki/Shah_Rukh_Khan&amp;sa=U&amp;ved=2ahUKEwjuxYimkp2BAxU-T2wGHdvXDogQr4kDegQIABAC&amp;usg=AOvVaw1Cv9BFIHvm5LvUCB_cAHQi\"><div class=\"AlD19d\"> <span class=\"qXLe6d x3G5ab\"> <span class=\"fYyStc\">Shah Rukh Khan - Wikipedia</span> </span> <span class=\"qXLe6d F9iS2e\"> <span class=\"fYyStc\">en.wikipedia.org</span> </span> </div></a></td></tr></table></div></div> </div> </div></td><td align=\"center\" class=\"e3goi\"><div class=\"jjVJ4e\"> <div> <div class=\"lIMUZd\"><div><table class=\"RntSmf\"><tr><td><a href=\"/url?q=https://www.imdb.com/name/nm0451321/&amp;sa=U&amp;ved=2ahUKEwjuxYimkp2BAxU-T2wGHdvXDogQqoUBegQIExAB&amp;usg=AOvVaw20kyzICC0XO5UhfNZOevxD\"><div class=\"kCmkOe\"><img alt=\"\" class=\"DS1iW\" src=\"https://encrypted-tbn0.gstatic.com/images?q=tbn:ANd9GcTrxkrOuNHUIsLTt3ULCq4GEkBJjpnF7BNE54yIYaUJdEM0Y1om031S9aCqBG8&amp;s\"/></div></a></td></tr><tr><td><a href=\"/url?q=https://www.imdb.com/name/nm0451321/&amp;sa=U&amp;ved=2ahUKEwjuxYimkp2BAxU-T2wGHdvXDogQr4kDegQIExAC&amp;usg=AOvVaw2xXSc4P033TV-Nrz3OkoEB\"><div class=\"AlD19d\"> <span class=\"qXLe6d x3G5ab\"> <span class=\"fYyStc\">Shah Rukh Khan - IMDb</span> </span> <span class=\"qXLe6d F9iS2e\"> <span class=\"fYyStc\">www.imdb.com</span> </span> </div></a></td></tr></table></div></div> </div> </div></td><td align=\"center\" class=\"e3goi\"><div class=\"jjVJ4e\"> <div> <div class=\"lIMUZd\"><div><table class=\"RntSmf\"><tr><td><a href=\"/url?q=https://www.abplive.com/entertainment/bollywood/shah-rukh-khan-responds-to-old-woman-who-called-him-forever-crush-read-details-inside-2341336&amp;sa=U&amp;ved=2ahUKEwjuxYimkp2BAxU-T2wGHdvXDogQqoUBegQIERAB&amp;usg=AOvVaw0DrYgLnL73axDl5iTcoPiJ\"><div class=\"kCmkOe\"><img alt=\"\" class=\"DS1iW\" src=\"https://encrypted-tbn0.gstatic.com/images?q=tbn:ANd9GcTEIKP9gKRQSKXxZoNLMb-m-RAjpzhRnW8qJrl34Z4ue9NBh-3q2y9FJdXfwA&amp;s\"/></div></a></td></tr><tr><td><a href=\"/url?q=https://www.abplive.com/entertainment/bollywood/shah-rukh-khan-responds-to-old-woman-who-called-him-forever-crush-read-details-inside-2341336&amp;sa=U&amp;ved=2ahUKEwjuxYimkp2BAxU-T2wGHdvXDogQr4kDegQIERAC&amp;usg=AOvVaw3xZHvvtTctBoNaUMtkL4sd\"><div class=\"AlD19d\"> <span class=\"qXLe6d x3G5ab\"> <span class=\"fYyStc\">Shah Rukh Khan Responds To...</span> </span> <span class=\"qXLe6d F9iS2e\"> <span class=\"fYyStc\">www.abplive.com</span> </span> </div></a></td></tr></table></div></div> </div> </div></td><td align=\"center\" class=\"e3goi\"><div class=\"jjVJ4e\"> <div> <div class=\"lIMUZd\"><div><table class=\"RntSmf\"><tr><td><a href=\"/url?q=https://www.gadgets360.com/entertainment/actor/shah-rukh-khan&amp;sa=U&amp;ved=2ahUKEwjuxYimkp2BAxU-T2wGHdvXDogQqoUBegQIEBAB&amp;usg=AOvVaw3EPC9b9HwptEyg4dGaHEDc\"><div class=\"kCmkOe\"><img alt=\"\" class=\"DS1iW\" src=\"https://encrypted-tbn0.gstatic.com/images?q=tbn:ANd9GcRhIz6fb5U0ylEghzxvhnPWMjUs4YAOnTcqSRu1VjT57GPSrsn9_jgu70O7l-Y&amp;s\"/></div></a></td></tr><tr><td><a href=\"/url?q=https://www.gadgets360.com/entertainment/actor/shah-rukh-khan&amp;sa=U&amp;ved=2ahUKEwjuxYimkp2BAxU-T2wGHdvXDogQr4kDegQIEBAC&amp;usg=AOvVaw0cCOZAMFxAHV3hQ_AO6jpE\"><div class=\"AlD19d\"> <span class=\"qXLe6d x3G5ab\"> <span class=\"fYyStc\">Shah Rukh Khan Movies: Shah...</span> </span> <span class=\"qXLe6d F9iS2e\"> <span class=\"fYyStc\">www.gadgets360.com</span> </span> </div></a></td></tr></table></div></div> </div> </div></td></tr><tr><td align=\"center\" class=\"e3goi\"><div class=\"jjVJ4e\"> <div> <div class=\"lIMUZd\"><div><table class=\"RntSmf\"><tr><td><a href=\"/url?q=https://www.peakpx.com/en/search%3Fq%3Dsrk&amp;sa=U&amp;ved=2ahUKEwjuxYimkp2BAxU-T2wGHdvXDogQqoUBegQIEhAB&amp;usg=AOvVaw1BY0uJpsTlTZ5BV06XKDTA\"><div class=\"kCmkOe\"><img alt=\"\" class=\"DS1iW\" src=\"https://encrypted-tbn0.gstatic.com/images?q=tbn:ANd9GcSEjzJNdlHZsWIDt98ffyG7jycdTZ8LmkTNOb1UxgAgXCIlf5SsiETboHxPpSE&amp;s\"/></div></a></td></tr><tr><td><a href=\"/url?q=https://www.peakpx.com/en/search%3Fq%3Dsrk&amp;sa=U&amp;ved=2ahUKEwjuxYimkp2BAxU-T2wGHdvXDogQr4kDegQIEhAC&amp;usg=AOvVaw3NgZGoCjRbX7U1VYBBUYz3\"><div class=\"AlD19d\"> <span class=\"qXLe6d x3G5ab\"> <span class=\"fYyStc\">HD srk wallpapers | Peakpx</span> </span> <span class=\"qXLe6d F9iS2e\"> <span class=\"fYyStc\">www.peakpx.com</span> </span> </div></a></td></tr></table></div></div> </div> </div></td><td align=\"center\" class=\"e3goi\"><div class=\"jjVJ4e\"> <div> <div class=\"lIMUZd\"><div><table class=\"RntSmf\"><tr><td><a href=\"/url?q=https://m.timesofindia.com/life-style/beauty/web-stories/20-best-hairstyles-of-pathaan-actor-shah-rukh-khan/photostory/97299172.cms&amp;sa=U&amp;ved=2ahUKEwjuxYimkp2BAxU-T2wGHdvXDogQqoUBegQIDBAB&amp;usg=AOvVaw0c9N_QDcK6V6Eo-vtWisu1\"><div class=\"kCmkOe\"><img alt=\"\" class=\"DS1iW\" src=\"https://encrypted-tbn0.gstatic.com/images?q=tbn:ANd9GcTpATIKBN-8BRwSDhNRcTlYzT6hXlMUMfglUBPYtGA6HCvnmgXnkFCqshbaWA&amp;s\"/></div></a></td></tr><tr><td><a href=\"/url?q=https://m.timesofindia.com/life-style/beauty/web-stories/20-best-hairstyles-of-pathaan-actor-shah-rukh-khan/photostory/97299172.cms&amp;sa=U&amp;ved=2ahUKEwjuxYimkp2BAxU-T2wGHdvXDogQr4kDegQIDBAC&amp;usg=AOvVaw2p7vmYqVi3dk2U4nAn1l72\"><div class=\"AlD19d\"> <span class=\"qXLe6d x3G5ab\"> <span class=\"fYyStc\">20 best hairstyles of...</span> </span> <span class=\"qXLe6d F9iS2e\"> <span class=\"fYyStc\">m.timesofindia.com</span> </span> </div></a></td></tr></table></div></div> </div> </div></td><td align=\"center\" class=\"e3goi\"><div class=\"jjVJ4e\"> <div> <div class=\"lIMUZd\"><div><table class=\"RntSmf\"><tr><td><a href=\"/url?q=https://www.rottentomatoes.com/celebrity/shahrukh_khan&amp;sa=U&amp;ved=2ahUKEwjuxYimkp2BAxU-T2wGHdvXDogQqoUBegQIDRAB&amp;usg=AOvVaw12iH1b5wL0vzh9K65kOr8U\"><div class=\"kCmkOe\"><img alt=\"\" class=\"DS1iW\" src=\"https://encrypted-tbn0.gstatic.com/images?q=tbn:ANd9GcSpFF3SsQqZMFOqpS8F1AvJTJ0cE5Wt3jHBIT3zJNSaeuuhfugf3pT5USehSH0&amp;s\"/></div></a></td></tr><tr><td><a href=\"/url?q=https://www.rottentomatoes.com/celebrity/shahrukh_khan&amp;sa=U&amp;ved=2ahUKEwjuxYimkp2BAxU-T2wGHdvXDogQr4kDegQIDRAC&amp;usg=AOvVaw3XC1mZmjkH8W_k4msX9fk6\"><div class=\"AlD19d\"> <span class=\"qXLe6d x3G5ab\"> <span class=\"fYyStc\">Shah Rukh Khan - Rotten...</span> </span> <span class=\"qXLe6d F9iS2e\"> <span class=\"fYyStc\">www.rottentomatoes.com</span> </span> </div></a></td></tr></table></div></div> </div> </div></td><td align=\"center\" class=\"e3goi\"><div class=\"jjVJ4e\"> <div> <div class=\"lIMUZd\"><div><table class=\"RntSmf\"><tr><td><a href=\"/url?q=https://in.bookmyshow.com/person/shah-rukh-khan/2092&amp;sa=U&amp;ved=2ahUKEwjuxYimkp2BAxU-T2wGHdvXDogQqoUBegQIDhAB&amp;usg=AOvVaw1PW4PD_sKhgiimX6cQ05-Y\"><div class=\"kCmkOe\"><img alt=\"\" class=\"DS1iW\" src=\"https://encrypted-tbn0.gstatic.com/images?q=tbn:ANd9GcQ_QdmmP7mpax7W68aqmmAv4vO-OC2aVTDX7fSvMP4pdOgMEMcO9M0q2AMaWps&amp;s\"/></div></a></td></tr><tr><td><a href=\"/url?q=https://in.bookmyshow.com/person/shah-rukh-khan/2092&amp;sa=U&amp;ved=2ahUKEwjuxYimkp2BAxU-T2wGHdvXDogQr4kDegQIDhAC&amp;usg=AOvVaw0YFeeGvp6H8j5XMXbPEtk8\"><div class=\"AlD19d\"> <span class=\"qXLe6d x3G5ab\"> <span class=\"fYyStc\">Shah Rukh Khan - Movies,...</span> </span> <span class=\"qXLe6d F9iS2e\"> <span class=\"fYyStc\">in.bookmyshow.com</span> </span> </div></a></td></tr></table></div></div> </div> </div></td></tr><tr><td align=\"center\" class=\"e3goi\"><div class=\"jjVJ4e\"> <div> <div class=\"lIMUZd\"><div><table class=\"RntSmf\"><tr><td><a href=\"/url?q=https://www.pxfuel.com/en/query%3Fq%3Dshahrukh%2Bkhan&amp;sa=U&amp;ved=2ahUKEwjuxYimkp2BAxU-T2wGHdvXDogQqoUBegQICxAB&amp;usg=AOvVaw10-mH3Ptn19sTUy0Vw3P0w\"><div class=\"kCmkOe\"><img alt=\"\" class=\"DS1iW\" src=\"https://encrypted-tbn0.gstatic.com/images?q=tbn:ANd9GcS_qGevoUygm0TEpp6GNkTouxm24fx-0TKorZ0lUCk0wT5eH0nac-qPSEOkQ9s&amp;s\"/></div></a></td></tr><tr><td><a href=\"/url?q=https://www.pxfuel.com/en/query%3Fq%3Dshahrukh%2Bkhan&amp;sa=U&amp;ved=2ahUKEwjuxYimkp2BAxU-T2wGHdvXDogQr4kDegQICxAC&amp;usg=AOvVaw0u1pTPn4eks8q03WMnyu4f\"><div class=\"AlD19d\"> <span class=\"qXLe6d x3G5ab\"> <span class=\"fYyStc\">Shahrukh khan HD wallpapers...</span> </span> <span class=\"qXLe6d F9iS2e\"> <span class=\"fYyStc\">www.pxfuel.com</span> </span> </div></a></td></tr></table></div></div> </div> </div></td><td align=\"center\" class=\"e3goi\"><div class=\"jjVJ4e\"> <div> <div class=\"lIMUZd\"><div><table class=\"RntSmf\"><tr><td><a href=\"/url?q=https://www.smartprix.com/bytes/shah-rukh-khan-becomes-brand-ambassador-of-realme-india/&amp;sa=U&amp;ved=2ahUKEwjuxYimkp2BAxU-T2wGHdvXDogQqoUBegQIDxAB&amp;usg=AOvVaw3iLGkKVF4B5zGmQiQelEea\"><div class=\"kCmkOe\"><img alt=\"\" class=\"DS1iW\" src=\"https://encrypted-tbn0.gstatic.com/images?q=tbn:ANd9GcSRyxlakCim7E7NkGMUaNe8_YkchgZBB5GhVPAEybrN-L55vsU5Laar0ss37A&amp;s\"/></div></a></td></tr><tr><td><a href=\"/url?q=https://www.smartprix.com/bytes/shah-rukh-khan-becomes-brand-ambassador-of-realme-india/&amp;sa=U&amp;ved=2ahUKEwjuxYimkp2BAxU-T2wGHdvXDogQr4kDegQIDxAC&amp;usg=AOvVaw2VBipVv1SmwKzQn9je59K1\"><div class=\"AlD19d\"> <span class=\"qXLe6d x3G5ab\"> <span class=\"fYyStc\">Shah Rukh Khan becomes the...</span> </span> <span class=\"qXLe6d F9iS2e\"> <span class=\"fYyStc\">www.smartprix.com</span> </span> </div></a></td></tr></table></div></div> </div> </div></td><td align=\"center\" class=\"e3goi\"><div class=\"jjVJ4e\"> <div> <div class=\"lIMUZd\"><div><table class=\"RntSmf\"><tr><td><a href=\"/url?q=https://www.hindustantimes.com/entertainment/bollywood/shah-rukh-khan-reacts-as-twitter-user-asks-if-he-will-ever-play-hero-heroine-s-dad-tum-baap-bano-main-101675494898267.html&amp;sa=U&amp;ved=2ahUKEwjuxYimkp2BAxU-T2wGHdvXDogQqoUBegQICRAB&amp;usg=AOvVaw1QiaMeJn3pWSUov6J960wb\"><div class=\"kCmkOe\"><img alt=\"\" class=\"DS1iW\" src=\"https://encrypted-tbn0.gstatic.com/images?q=tbn:ANd9GcRVX9EDlYmfwBrSY6g1aXHy5y1m9euWyZncj8Q-7sZ6ZUWQ58EV08iFhvWwDg&amp;s\"/></div></a></td></tr><tr><td><a href=\"/url?q=https://www.hindustantimes.com/entertainment/bollywood/shah-rukh-khan-reacts-as-twitter-user-asks-if-he-will-ever-play-hero-heroine-s-dad-tum-baap-bano-main-101675494898267.html&amp;sa=U&amp;ved=2ahUKEwjuxYimkp2BAxU-T2wGHdvXDogQr4kDegQICRAC&amp;usg=AOvVaw2anSjSvMNgu7TX-FUbypc7\"><div class=\"AlD19d\"> <span class=\"qXLe6d x3G5ab\"> <span class=\"fYyStc\">SRK responds to criticism:...</span> </span> <span class=\"qXLe6d F9iS2e\"> <span class=\"fYyStc\">www.hindustantimes.com</span> </span> </div></a></td></tr></table></div></div> </div> </div></td><td align=\"center\" class=\"e3goi\"><div class=\"jjVJ4e\"> <div> <div class=\"lIMUZd\"><div><table class=\"RntSmf\"><tr><td><a href=\"/url?q=https://english.jagran.com/tv/shahrukh-khan-collaborates-with-tv-show-host-david-letterman-for-netflix-special-10000344&amp;sa=U&amp;ved=2ahUKEwjuxYimkp2BAxU-T2wGHdvXDogQqoUBegQIChAB&amp;usg=AOvVaw30dQVmdgWnDbn4P9QL1Elf\"><div class=\"kCmkOe\"><img alt=\"\" class=\"DS1iW\" src=\"https://encrypted-tbn0.gstatic.com/images?q=tbn:ANd9GcTc_CLIANMQaRj6TjJAfODtn4Zow53aNnsRL1xw7NktaSrBtDYdAzQ28VrSNQQ&amp;s\"/></div></a></td></tr><tr><td><a href=\"/url?q=https://english.jagran.com/tv/shahrukh-khan-collaborates-with-tv-show-host-david-letterman-for-netflix-special-10000344&amp;sa=U&amp;ved=2ahUKEwjuxYimkp2BAxU-T2wGHdvXDogQr4kDegQIChAC&amp;usg=AOvVaw22a38fBpOCG11NA1tD2aXl\"><div class=\"AlD19d\"> <span class=\"qXLe6d x3G5ab\"> <span class=\"fYyStc\">Shahrukh Khan collaborates...</span> </span> <span class=\"qXLe6d F9iS2e\"> <span class=\"fYyStc\">english.jagran.com</span> </span> </div></a></td></tr></table></div></div> </div> </div></td></tr><tr><td align=\"center\" class=\"e3goi\"><div class=\"jjVJ4e\"> <div> <div class=\"lIMUZd\"><div><table class=\"RntSmf\"><tr><td><a href=\"/url?q=https://www.peakpx.com/en/hd-wallpaper-desktop-wkkze&amp;sa=U&amp;ved=2ahUKEwjuxYimkp2BAxU-T2wGHdvXDogQqoUBegQIBhAB&amp;usg=AOvVaw0syDrqz0_UzSGIjCHNQSGz\"><div class=\"kCmkOe\"><img alt=\"\" class=\"DS1iW\" src=\"https://encrypted-tbn0.gstatic.com/images?q=tbn:ANd9GcQpjVuLwn1qvo9hAqdZmZQ1Wg4Y0hScLNDrSNs5Kv-E2NDRF5dxQV1-JefZA9g&amp;s\"/></div></a></td></tr><tr><td><a href=\"/url?q=https://www.peakpx.com/en/hd-wallpaper-desktop-wkkze&amp;sa=U&amp;ved=2ahUKEwjuxYimkp2BAxU-T2wGHdvXDogQr4kDegQIBhAC&amp;usg=AOvVaw3ul7Z_qWGbnAHckcGPllKy\"><div class=\"AlD19d\"> <span class=\"qXLe6d x3G5ab\"> <span class=\"fYyStc\">Shahrukh Khan, king, actor,...</span> </span> <span class=\"qXLe6d F9iS2e\"> <span class=\"fYyStc\">www.peakpx.com</span> </span> </div></a></td></tr></table></div></div> </div> </div></td><td align=\"center\" class=\"e3goi\"><div class=\"jjVJ4e\"> <div> <div class=\"lIMUZd\"><div><table class=\"RntSmf\"><tr><td><a href=\"/url?q=https://www.filmfare.com/news/bollywood/watch-viral-video-of-shah-rukh-khan-hosting-a-show-before-he-became-a-star-36549.html&amp;sa=U&amp;ved=2ahUKEwjuxYimkp2BAxU-T2wGHdvXDogQqoUBegQIBxAB&amp;usg=AOvVaw1yB9m4Mqx3CSVlb23CQI89\"><div class=\"kCmkOe\"><img alt=\"\" class=\"DS1iW\" src=\"https://encrypted-tbn0.gstatic.com/images?q=tbn:ANd9GcR29_9lZRwq8_A_QepeZicEUbhhGug_MDrAoLYC_xkQA3EvQ6JED8L3eVm9ZA&amp;s\"/></div></a></td></tr><tr><td><a href=\"/url?q=https://www.filmfare.com/news/bollywood/watch-viral-video-of-shah-rukh-khan-hosting-a-show-before-he-became-a-star-36549.html&amp;sa=U&amp;ved=2ahUKEwjuxYimkp2BAxU-T2wGHdvXDogQr4kDegQIBxAC&amp;usg=AOvVaw3VzdCDcvaDFMbOP8jcy3uk\"><div class=\"AlD19d\"> <span class=\"qXLe6d x3G5ab\"> <span class=\"fYyStc\">Watch: Viral video of Shah...</span> </span> <span class=\"qXLe6d F9iS2e\"> <span class=\"fYyStc\">www.filmfare.com</span> </span> </div></a></td></tr></table></div></div> </div> </div></td><td align=\"center\" class=\"e3goi\"><div class=\"jjVJ4e\"> <div> <div class=\"lIMUZd\"><div><table class=\"RntSmf\"><tr><td><a href=\"/url?q=https://www.pxfuel.com/en/desktop-wallpaper-hoqig&amp;sa=U&amp;ved=2ahUKEwjuxYimkp2BAxU-T2wGHdvXDogQqoUBegQICBAB&amp;usg=AOvVaw0uBh2eCgEkkLXRU9jYL_Sf\"><div class=\"kCmkOe\"><img alt=\"\" class=\"DS1iW\" src=\"https://encrypted-tbn0.gstatic.com/images?q=tbn:ANd9GcQ9VAxvwU7nUOhODpj_3rg84iV-LHfbGERmgd_wpuEVIVgca0pvkpAQ8jvnlw&amp;s\"/></div></a></td></tr><tr><td><a href=\"/url?q=https://www.pxfuel.com/en/desktop-wallpaper-hoqig&amp;sa=U&amp;ved=2ahUKEwjuxYimkp2BAxU-T2wGHdvXDogQr4kDegQICBAC&amp;usg=AOvVaw2DiTxZZSKRbDSeXXS0aaYM\"><div class=\"AlD19d\"> <span class=\"qXLe6d x3G5ab\"> <span class=\"fYyStc\">Shahrukh Khan Best,...</span> </span> <span class=\"qXLe6d F9iS2e\"> <span class=\"fYyStc\">www.pxfuel.com</span> </span> </div></a></td></tr></table></div></div> </div> </div></td><td align=\"center\" class=\"e3goi\"><div class=\"jjVJ4e\"> <div> <div class=\"lIMUZd\"><div><table class=\"RntSmf\"><tr><td><a href=\"/url?q=https://indianexpress.com/article/entertainment/bollywood/shah-rukh-khan-reveals-wife-gauri-khans-rules-inside-their-home-mannat-7934740/&amp;sa=U&amp;ved=2ahUKEwjuxYimkp2BAxU-T2wGHdvXDogQqoUBegQIBRAB&amp;usg=AOvVaw2Gt62L5llM4glMLS6kgShm\"><div class=\"kCmkOe\"><img alt=\"\" class=\"DS1iW\" src=\"https://encrypted-tbn0.gstatic.com/images?q=tbn:ANd9GcSz5d6pu3gDz6hqe_DsT4StHmUV-j2T7jRkQz7Q3Szc-FiMFLvDWiQqqK4V5Ws&amp;s\"/></div></a></td></tr><tr><td><a href=\"/url?q=https://indianexpress.com/article/entertainment/bollywood/shah-rukh-khan-reveals-wife-gauri-khans-rules-inside-their-home-mannat-7934740/&amp;sa=U&amp;ved=2ahUKEwjuxYimkp2BAxU-T2wGHdvXDogQr4kDegQIBRAC&amp;usg=AOvVaw2ErxFME0SQtnF9EFOdVu4u\"><div class=\"AlD19d\"> <span class=\"qXLe6d x3G5ab\"> <span class=\"fYyStc\">Shah Rukh Khan reveals wife...</span> </span> <span class=\"qXLe6d F9iS2e\"> <span class=\"fYyStc\">indianexpress.com</span> </span> </div></a></td></tr></table></div></div> </div> </div></td></tr><tr><td align=\"center\" class=\"e3goi\"><div class=\"jjVJ4e\"> <div> <div class=\"lIMUZd\"><div><table class=\"RntSmf\"><tr><td><a href=\"/url?q=https://time.com/collection/100-most-influential-people-2023/6269827/shah-rukh-khan/&amp;sa=U&amp;ved=2ahUKEwjuxYimkp2BAxU-T2wGHdvXDogQqoUBegQIBBAB&amp;usg=AOvVaw0NmXwRLFUbRRtKx5ljt88N\"><div class=\"kCmkOe\"><img alt=\"\" class=\"DS1iW\" src=\"https://encrypted-tbn0.gstatic.com/images?q=tbn:ANd9GcTjV2_gAY804CHMmCgCLj3TCjeKqaapKadPbtYDOxzo2EX0pwT7gBLA39TdSg4&amp;s\"/></div></a></td></tr><tr><td><a href=\"/url?q=https://time.com/collection/100-most-influential-people-2023/6269827/shah-rukh-khan/&amp;sa=U&amp;ved=2ahUKEwjuxYimkp2BAxU-T2wGHdvXDogQr4kDegQIBBAC&amp;usg=AOvVaw0UybKby341xPtdOCh04aAd\"><div class=\"AlD19d\"> <span class=\"qXLe6d x3G5ab\"> <span class=\"fYyStc\">Shah Rukh Khan Is on the...</span> </span> <span class=\"qXLe6d F9iS2e\"> <span class=\"fYyStc\">time.com</span> </span> </div></a></td></tr></table></div></div> </div> </div></td><td align=\"center\" class=\"e3goi\"><div class=\"jjVJ4e\"> <div> <div class=\"lIMUZd\"><div><table class=\"RntSmf\"><tr><td><a href=\"/url?q=https://twitter.com/iamsrk&amp;sa=U&amp;ved=2ahUKEwjuxYimkp2BAxU-T2wGHdvXDogQqoUBegQIAxAB&amp;usg=AOvVaw3NDWk0fzPdDC3_6UePvLhA\"><div class=\"kCmkOe\"><img alt=\"\" class=\"DS1iW\" src=\"https://encrypted-tbn0.gstatic.com/images?q=tbn:ANd9GcQYnK2BdYvZVbwX55FwVUiUrm6UitHPo3NMbUSWrZliI1mH-4h7NH-ANc4kSA&amp;s\"/></div></a></td></tr><tr><td><a href=\"/url?q=https://twitter.com/iamsrk&amp;sa=U&amp;ved=2ahUKEwjuxYimkp2BAxU-T2wGHdvXDogQr4kDegQIAxAC&amp;usg=AOvVaw3V98ZQboT86n0p74mBCPEt\"><div class=\"AlD19d\"> <span class=\"qXLe6d x3G5ab\"> <span class=\"fYyStc\">Shah Rukh Khan (@iamsrk) /...</span> </span> <span class=\"qXLe6d F9iS2e\"> <span class=\"fYyStc\">twitter.com</span> </span> </div></a></td></tr></table></div></div> </div> </div></td><td align=\"center\" class=\"e3goi\"><div class=\"jjVJ4e\"> <div> <div class=\"lIMUZd\"><div><table class=\"RntSmf\"><tr><td><a href=\"/url?q=https://www.abplive.com/short-videos/entertainment/rajkumar-hirani-gave-a-review-of-shahrukh-khan-s-jawan-he-said-after-seeing-some-scenes-2490100&amp;sa=U&amp;ved=2ahUKEwjuxYimkp2BAxU-T2wGHdvXDogQqoUBegQIAhAB&amp;usg=AOvVaw2atLQuDX6cBJx6pkZkBrG1\"><div class=\"kCmkOe\"><img alt=\"\" class=\"DS1iW\" src=\"https://encrypted-tbn0.gstatic.com/images?q=tbn:ANd9GcQd6uTPdkfAj2o-FvMUxwRMVQEf5MgWli1FuDa--nVB1qahrYC6sLK6Q9C1lw&amp;s\"/></div></a></td></tr><tr><td><a href=\"/url?q=https://www.abplive.com/short-videos/entertainment/rajkumar-hirani-gave-a-review-of-shahrukh-khan-s-jawan-he-said-after-seeing-some-scenes-2490100&amp;sa=U&amp;ved=2ahUKEwjuxYimkp2BAxU-T2wGHdvXDogQr4kDegQIAhAC&amp;usg=AOvVaw2kkQpd9y2yOPXcDnPeKEcx\"><div class=\"AlD19d\"> <span class=\"qXLe6d x3G5ab\"> <span class=\"fYyStc\">Rajkumar Hirani ने दिया...</span> </span> <span class=\"qXLe6d F9iS2e\"> <span class=\"fYyStc\">www.abplive.com</span> </span> </div></a></td></tr></table></div></div> </div> </div></td><td align=\"center\" class=\"e3goi\"><div class=\"jjVJ4e\"> <div> <div class=\"lIMUZd\"><div><table class=\"RntSmf\"><tr><td><a href=\"/url?q=https://www.koimoi.com/bollywood-news/shah-rukh-khan-says-amitabh-bachchan-beat-me-in-the-run-opening-up-on-their-reunion-after-a-gap-of-17-years-in-an-anonymous-project/&amp;sa=U&amp;ved=2ahUKEwjuxYimkp2BAxU-T2wGHdvXDogQqoUBegQIARAB&amp;usg=AOvVaw2XGYf7KCz_7pX3B43Y9KJR\"><div class=\"kCmkOe\"><img alt=\"\" class=\"DS1iW\" src=\"https://encrypted-tbn0.gstatic.com/images?q=tbn:ANd9GcQ_Q-5ZyxtXwaTCLzFYvmoufwPT5_klxpRUezz4HLamHKkFLK9-ke9JAd2_JA&amp;s\"/></div></a></td></tr><tr><td><a href=\"/url?q=https://www.koimoi.com/bollywood-news/shah-rukh-khan-says-amitabh-bachchan-beat-me-in-the-run-opening-up-on-their-reunion-after-a-gap-of-17-years-in-an-anonymous-project/&amp;sa=U&amp;ved=2ahUKEwjuxYimkp2BAxU-T2wGHdvXDogQr4kDegQIARAC&amp;usg=AOvVaw2ZSNiROvNWf0rNVZGD3OAk\"><div class=\"AlD19d\"> <span class=\"qXLe6d x3G5ab\"> <span class=\"fYyStc\">Shah Rukh Khan Says...</span> </span> <span class=\"qXLe6d F9iS2e\"> <span class=\"fYyStc\">www.koimoi.com</span> </span> </div></a></td></tr></table></div></div> </div> </div></td></tr></table></div><table class=\"uZgmoc\"><tbody><td><a class=\"frGj1b\" href=\"/search?q=shahrukh+khan&amp;sca_esv=563665333&amp;biw=1683&amp;bih=822&amp;ie=UTF-8&amp;tbm=isch&amp;ei=IjH8ZO6sNL6eseMP26-7wAg&amp;start=20&amp;sa=N\">Next &gt;</a></td></tbody></table><br/><div class=\"TuS8Ad\" data-ved=\"0ahUKEwjuxYimkp2BAxU-T2wGHdvXDogQpyoIUg\"><style>.VYM29{font-weight:bold}</style><div align=\"center\" class=\"HddGcc\"><span class=\"VYM29\">Nerul, Navi Mumbai, Maharashtra</span><span> - </span><span>From your IP address</span><span> - </span><a href=\"/url?q=https://support.google.com/websearch%3Fp%3Dws_settings_location%26hl%3Den-IN&amp;sa=U&amp;ved=0ahUKEwjuxYimkp2BAxU-T2wGHdvXDogQty4IUw&amp;usg=AOvVaw0sjvCpbu8hNDpqTQ_5JTo2\">Learn more</a></div><div align=\"center\"><a class=\"rEM8G\" href=\"/url?q=https://accounts.google.com/ServiceLogin%3Fcontinue%3Dhttps://www.google.com/search%253Fsca_esv%253D563665333%2526q%253Dshahrukh%252Bkhan%2526tbm%253Disch%2526source%253Dlnms%2526sa%253DX%2526ved%253D2ahUKEwjL6_m60JqBAxX8amwGHSNCDZkQ0pQJegQIDRAB%2526biw%253D1683%2526bih%253D822%2526dpr%253D1.11%26hl%3Den&amp;sa=U&amp;ved=0ahUKEwjuxYimkp2BAxU-T2wGHdvXDogQxs8CCFQ&amp;usg=AOvVaw0weQCZYba_sFZ5P6K-RzMO\">Sign in</a></div><div><table class=\"bookcf\"><tbody class=\"InWNIe\"><tr><td><a class=\"rEM8G\" href=\"https://www.google.com/preferences?hl=en&amp;sa=X&amp;ved=0ahUKEwjuxYimkp2BAxU-T2wGHdvXDogQv5YECFU\">Settings</a></td><td><a class=\"rEM8G\" href=\"https://www.google.com/intl/en_in/policies/privacy/\">Privacy</a></td><td><a class=\"rEM8G\" href=\"https://www.google.com/intl/en_in/policies/terms/\">Terms</a></td></tr></tbody></table></div></div><div> </div></body></html>"
      ]
     },
     "execution_count": 5,
     "metadata": {},
     "output_type": "execute_result"
    }
   ],
   "source": [
    "soup"
   ]
  },
  {
   "cell_type": "code",
   "execution_count": 6,
   "id": "61232af7",
   "metadata": {},
   "outputs": [],
   "source": [
    "# seperate the img tag from the source content and store it in another variable\n",
    "image_tags = soup.find_all(\"img\")"
   ]
  },
  {
   "cell_type": "code",
   "execution_count": 7,
   "id": "246902e0",
   "metadata": {
    "scrolled": true
   },
   "outputs": [
    {
     "data": {
      "text/plain": [
       "[<img alt=\"Google\" class=\"kgJEQe\" src=\"/images/branding/searchlogo/1x/googlelogo_desk_heirloom_color_150x55dp.gif\"/>,\n",
       " <img alt=\"\" class=\"DS1iW\" src=\"https://encrypted-tbn0.gstatic.com/images?q=tbn:ANd9GcTLNfUks4a0a_Zm76sqYmimv_BWKgkZbDE12d5kbaaQRT3TAyRfmbeR2vLzfg&amp;s\"/>,\n",
       " <img alt=\"\" class=\"DS1iW\" src=\"https://encrypted-tbn0.gstatic.com/images?q=tbn:ANd9GcTrxkrOuNHUIsLTt3ULCq4GEkBJjpnF7BNE54yIYaUJdEM0Y1om031S9aCqBG8&amp;s\"/>,\n",
       " <img alt=\"\" class=\"DS1iW\" src=\"https://encrypted-tbn0.gstatic.com/images?q=tbn:ANd9GcTEIKP9gKRQSKXxZoNLMb-m-RAjpzhRnW8qJrl34Z4ue9NBh-3q2y9FJdXfwA&amp;s\"/>,\n",
       " <img alt=\"\" class=\"DS1iW\" src=\"https://encrypted-tbn0.gstatic.com/images?q=tbn:ANd9GcRhIz6fb5U0ylEghzxvhnPWMjUs4YAOnTcqSRu1VjT57GPSrsn9_jgu70O7l-Y&amp;s\"/>,\n",
       " <img alt=\"\" class=\"DS1iW\" src=\"https://encrypted-tbn0.gstatic.com/images?q=tbn:ANd9GcSEjzJNdlHZsWIDt98ffyG7jycdTZ8LmkTNOb1UxgAgXCIlf5SsiETboHxPpSE&amp;s\"/>,\n",
       " <img alt=\"\" class=\"DS1iW\" src=\"https://encrypted-tbn0.gstatic.com/images?q=tbn:ANd9GcTpATIKBN-8BRwSDhNRcTlYzT6hXlMUMfglUBPYtGA6HCvnmgXnkFCqshbaWA&amp;s\"/>,\n",
       " <img alt=\"\" class=\"DS1iW\" src=\"https://encrypted-tbn0.gstatic.com/images?q=tbn:ANd9GcSpFF3SsQqZMFOqpS8F1AvJTJ0cE5Wt3jHBIT3zJNSaeuuhfugf3pT5USehSH0&amp;s\"/>,\n",
       " <img alt=\"\" class=\"DS1iW\" src=\"https://encrypted-tbn0.gstatic.com/images?q=tbn:ANd9GcQ_QdmmP7mpax7W68aqmmAv4vO-OC2aVTDX7fSvMP4pdOgMEMcO9M0q2AMaWps&amp;s\"/>,\n",
       " <img alt=\"\" class=\"DS1iW\" src=\"https://encrypted-tbn0.gstatic.com/images?q=tbn:ANd9GcS_qGevoUygm0TEpp6GNkTouxm24fx-0TKorZ0lUCk0wT5eH0nac-qPSEOkQ9s&amp;s\"/>,\n",
       " <img alt=\"\" class=\"DS1iW\" src=\"https://encrypted-tbn0.gstatic.com/images?q=tbn:ANd9GcSRyxlakCim7E7NkGMUaNe8_YkchgZBB5GhVPAEybrN-L55vsU5Laar0ss37A&amp;s\"/>,\n",
       " <img alt=\"\" class=\"DS1iW\" src=\"https://encrypted-tbn0.gstatic.com/images?q=tbn:ANd9GcRVX9EDlYmfwBrSY6g1aXHy5y1m9euWyZncj8Q-7sZ6ZUWQ58EV08iFhvWwDg&amp;s\"/>,\n",
       " <img alt=\"\" class=\"DS1iW\" src=\"https://encrypted-tbn0.gstatic.com/images?q=tbn:ANd9GcTc_CLIANMQaRj6TjJAfODtn4Zow53aNnsRL1xw7NktaSrBtDYdAzQ28VrSNQQ&amp;s\"/>,\n",
       " <img alt=\"\" class=\"DS1iW\" src=\"https://encrypted-tbn0.gstatic.com/images?q=tbn:ANd9GcQpjVuLwn1qvo9hAqdZmZQ1Wg4Y0hScLNDrSNs5Kv-E2NDRF5dxQV1-JefZA9g&amp;s\"/>,\n",
       " <img alt=\"\" class=\"DS1iW\" src=\"https://encrypted-tbn0.gstatic.com/images?q=tbn:ANd9GcR29_9lZRwq8_A_QepeZicEUbhhGug_MDrAoLYC_xkQA3EvQ6JED8L3eVm9ZA&amp;s\"/>,\n",
       " <img alt=\"\" class=\"DS1iW\" src=\"https://encrypted-tbn0.gstatic.com/images?q=tbn:ANd9GcQ9VAxvwU7nUOhODpj_3rg84iV-LHfbGERmgd_wpuEVIVgca0pvkpAQ8jvnlw&amp;s\"/>,\n",
       " <img alt=\"\" class=\"DS1iW\" src=\"https://encrypted-tbn0.gstatic.com/images?q=tbn:ANd9GcSz5d6pu3gDz6hqe_DsT4StHmUV-j2T7jRkQz7Q3Szc-FiMFLvDWiQqqK4V5Ws&amp;s\"/>,\n",
       " <img alt=\"\" class=\"DS1iW\" src=\"https://encrypted-tbn0.gstatic.com/images?q=tbn:ANd9GcTjV2_gAY804CHMmCgCLj3TCjeKqaapKadPbtYDOxzo2EX0pwT7gBLA39TdSg4&amp;s\"/>,\n",
       " <img alt=\"\" class=\"DS1iW\" src=\"https://encrypted-tbn0.gstatic.com/images?q=tbn:ANd9GcQYnK2BdYvZVbwX55FwVUiUrm6UitHPo3NMbUSWrZliI1mH-4h7NH-ANc4kSA&amp;s\"/>,\n",
       " <img alt=\"\" class=\"DS1iW\" src=\"https://encrypted-tbn0.gstatic.com/images?q=tbn:ANd9GcQd6uTPdkfAj2o-FvMUxwRMVQEf5MgWli1FuDa--nVB1qahrYC6sLK6Q9C1lw&amp;s\"/>,\n",
       " <img alt=\"\" class=\"DS1iW\" src=\"https://encrypted-tbn0.gstatic.com/images?q=tbn:ANd9GcQ_Q-5ZyxtXwaTCLzFYvmoufwPT5_klxpRUezz4HLamHKkFLK9-ke9JAd2_JA&amp;s\"/>]"
      ]
     },
     "execution_count": 7,
     "metadata": {},
     "output_type": "execute_result"
    }
   ],
   "source": [
    "image_tags"
   ]
  },
  {
   "cell_type": "code",
   "execution_count": 8,
   "id": "ce116238",
   "metadata": {},
   "outputs": [],
   "source": [
    "del image_tags[0]"
   ]
  },
  {
   "cell_type": "code",
   "execution_count": 9,
   "id": "19994a43",
   "metadata": {},
   "outputs": [
    {
     "data": {
      "text/plain": [
       "[<img alt=\"\" class=\"DS1iW\" src=\"https://encrypted-tbn0.gstatic.com/images?q=tbn:ANd9GcTLNfUks4a0a_Zm76sqYmimv_BWKgkZbDE12d5kbaaQRT3TAyRfmbeR2vLzfg&amp;s\"/>,\n",
       " <img alt=\"\" class=\"DS1iW\" src=\"https://encrypted-tbn0.gstatic.com/images?q=tbn:ANd9GcTrxkrOuNHUIsLTt3ULCq4GEkBJjpnF7BNE54yIYaUJdEM0Y1om031S9aCqBG8&amp;s\"/>,\n",
       " <img alt=\"\" class=\"DS1iW\" src=\"https://encrypted-tbn0.gstatic.com/images?q=tbn:ANd9GcTEIKP9gKRQSKXxZoNLMb-m-RAjpzhRnW8qJrl34Z4ue9NBh-3q2y9FJdXfwA&amp;s\"/>,\n",
       " <img alt=\"\" class=\"DS1iW\" src=\"https://encrypted-tbn0.gstatic.com/images?q=tbn:ANd9GcRhIz6fb5U0ylEghzxvhnPWMjUs4YAOnTcqSRu1VjT57GPSrsn9_jgu70O7l-Y&amp;s\"/>,\n",
       " <img alt=\"\" class=\"DS1iW\" src=\"https://encrypted-tbn0.gstatic.com/images?q=tbn:ANd9GcSEjzJNdlHZsWIDt98ffyG7jycdTZ8LmkTNOb1UxgAgXCIlf5SsiETboHxPpSE&amp;s\"/>,\n",
       " <img alt=\"\" class=\"DS1iW\" src=\"https://encrypted-tbn0.gstatic.com/images?q=tbn:ANd9GcTpATIKBN-8BRwSDhNRcTlYzT6hXlMUMfglUBPYtGA6HCvnmgXnkFCqshbaWA&amp;s\"/>,\n",
       " <img alt=\"\" class=\"DS1iW\" src=\"https://encrypted-tbn0.gstatic.com/images?q=tbn:ANd9GcSpFF3SsQqZMFOqpS8F1AvJTJ0cE5Wt3jHBIT3zJNSaeuuhfugf3pT5USehSH0&amp;s\"/>,\n",
       " <img alt=\"\" class=\"DS1iW\" src=\"https://encrypted-tbn0.gstatic.com/images?q=tbn:ANd9GcQ_QdmmP7mpax7W68aqmmAv4vO-OC2aVTDX7fSvMP4pdOgMEMcO9M0q2AMaWps&amp;s\"/>,\n",
       " <img alt=\"\" class=\"DS1iW\" src=\"https://encrypted-tbn0.gstatic.com/images?q=tbn:ANd9GcS_qGevoUygm0TEpp6GNkTouxm24fx-0TKorZ0lUCk0wT5eH0nac-qPSEOkQ9s&amp;s\"/>,\n",
       " <img alt=\"\" class=\"DS1iW\" src=\"https://encrypted-tbn0.gstatic.com/images?q=tbn:ANd9GcSRyxlakCim7E7NkGMUaNe8_YkchgZBB5GhVPAEybrN-L55vsU5Laar0ss37A&amp;s\"/>,\n",
       " <img alt=\"\" class=\"DS1iW\" src=\"https://encrypted-tbn0.gstatic.com/images?q=tbn:ANd9GcRVX9EDlYmfwBrSY6g1aXHy5y1m9euWyZncj8Q-7sZ6ZUWQ58EV08iFhvWwDg&amp;s\"/>,\n",
       " <img alt=\"\" class=\"DS1iW\" src=\"https://encrypted-tbn0.gstatic.com/images?q=tbn:ANd9GcTc_CLIANMQaRj6TjJAfODtn4Zow53aNnsRL1xw7NktaSrBtDYdAzQ28VrSNQQ&amp;s\"/>,\n",
       " <img alt=\"\" class=\"DS1iW\" src=\"https://encrypted-tbn0.gstatic.com/images?q=tbn:ANd9GcQpjVuLwn1qvo9hAqdZmZQ1Wg4Y0hScLNDrSNs5Kv-E2NDRF5dxQV1-JefZA9g&amp;s\"/>,\n",
       " <img alt=\"\" class=\"DS1iW\" src=\"https://encrypted-tbn0.gstatic.com/images?q=tbn:ANd9GcR29_9lZRwq8_A_QepeZicEUbhhGug_MDrAoLYC_xkQA3EvQ6JED8L3eVm9ZA&amp;s\"/>,\n",
       " <img alt=\"\" class=\"DS1iW\" src=\"https://encrypted-tbn0.gstatic.com/images?q=tbn:ANd9GcQ9VAxvwU7nUOhODpj_3rg84iV-LHfbGERmgd_wpuEVIVgca0pvkpAQ8jvnlw&amp;s\"/>,\n",
       " <img alt=\"\" class=\"DS1iW\" src=\"https://encrypted-tbn0.gstatic.com/images?q=tbn:ANd9GcSz5d6pu3gDz6hqe_DsT4StHmUV-j2T7jRkQz7Q3Szc-FiMFLvDWiQqqK4V5Ws&amp;s\"/>,\n",
       " <img alt=\"\" class=\"DS1iW\" src=\"https://encrypted-tbn0.gstatic.com/images?q=tbn:ANd9GcTjV2_gAY804CHMmCgCLj3TCjeKqaapKadPbtYDOxzo2EX0pwT7gBLA39TdSg4&amp;s\"/>,\n",
       " <img alt=\"\" class=\"DS1iW\" src=\"https://encrypted-tbn0.gstatic.com/images?q=tbn:ANd9GcQYnK2BdYvZVbwX55FwVUiUrm6UitHPo3NMbUSWrZliI1mH-4h7NH-ANc4kSA&amp;s\"/>,\n",
       " <img alt=\"\" class=\"DS1iW\" src=\"https://encrypted-tbn0.gstatic.com/images?q=tbn:ANd9GcQd6uTPdkfAj2o-FvMUxwRMVQEf5MgWli1FuDa--nVB1qahrYC6sLK6Q9C1lw&amp;s\"/>,\n",
       " <img alt=\"\" class=\"DS1iW\" src=\"https://encrypted-tbn0.gstatic.com/images?q=tbn:ANd9GcQ_Q-5ZyxtXwaTCLzFYvmoufwPT5_klxpRUezz4HLamHKkFLK9-ke9JAd2_JA&amp;s\"/>]"
      ]
     },
     "execution_count": 9,
     "metadata": {},
     "output_type": "execute_result"
    }
   ],
   "source": [
    "image_tags"
   ]
  },
  {
   "cell_type": "code",
   "execution_count": 10,
   "id": "37b6b943",
   "metadata": {},
   "outputs": [
    {
     "data": {
      "text/plain": [
       "20"
      ]
     },
     "execution_count": 10,
     "metadata": {},
     "output_type": "execute_result"
    }
   ],
   "source": [
    "len(image_tags)"
   ]
  },
  {
   "cell_type": "code",
   "execution_count": 11,
   "id": "668c6f97",
   "metadata": {},
   "outputs": [
    {
     "name": "stdout",
     "output_type": "stream",
     "text": [
      "0\n",
      "1\n",
      "2\n",
      "3\n",
      "4\n",
      "5\n",
      "6\n",
      "7\n",
      "8\n",
      "9\n",
      "10\n",
      "11\n",
      "12\n",
      "13\n",
      "14\n",
      "15\n",
      "16\n",
      "17\n",
      "18\n",
      "19\n"
     ]
    }
   ],
   "source": [
    "for i in image_tags:\n",
    "    print(image_tags.index(i))"
   ]
  },
  {
   "cell_type": "code",
   "execution_count": 12,
   "id": "af3df5ba",
   "metadata": {},
   "outputs": [],
   "source": [
    "save_dir = 'images/' # output storage file\n",
    "\n",
    "if not os.path.exists(save_dir):\n",
    "    os.makedirs(save_dir) # creates a file if not present"
   ]
  },
  {
   "cell_type": "code",
   "execution_count": 13,
   "id": "0e36e8fa",
   "metadata": {
    "scrolled": true
   },
   "outputs": [],
   "source": [
    "# Looping the image tag, saving the file with custom format\n",
    "for i in image_tags:\n",
    "    image_url = i['src']\n",
    "    image_data = requests.get(image_url).content\n",
    "    with open(os.path.join(save_dir,f\"{query}_{image_tags.index(i)}.jpg\"),\"wb\") as f:\n",
    "              f.write(image_data)"
   ]
  }
 ],
 "metadata": {
  "kernelspec": {
   "display_name": "Python 3 (ipykernel)",
   "language": "python",
   "name": "python3"
  },
  "language_info": {
   "codemirror_mode": {
    "name": "ipython",
    "version": 3
   },
   "file_extension": ".py",
   "mimetype": "text/x-python",
   "name": "python",
   "nbconvert_exporter": "python",
   "pygments_lexer": "ipython3",
   "version": "3.11.4"
  }
 },
 "nbformat": 4,
 "nbformat_minor": 5
}
